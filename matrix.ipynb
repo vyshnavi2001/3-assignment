{
  "nbformat": 4,
  "nbformat_minor": 0,
  "metadata": {
    "colab": {
      "name": "Untitled35.ipynb",
      "provenance": [],
      "authorship_tag": "ABX9TyM6wSqKWQbf/JNcA0dnsdlb",
      "include_colab_link": true
    },
    "kernelspec": {
      "name": "python3",
      "display_name": "Python 3"
    }
  },
  "cells": [
    {
      "cell_type": "markdown",
      "metadata": {
        "id": "view-in-github",
        "colab_type": "text"
      },
      "source": [
        "<a href=\"https://colab.research.google.com/github/vyshnavi2001/3-assignment/blob/master/matrix.ipynb\" target=\"_parent\"><img src=\"https://colab.research.google.com/assets/colab-badge.svg\" alt=\"Open In Colab\"/></a>"
      ]
    },
    {
      "cell_type": "code",
      "metadata": {
        "id": "eQ_sg6aGBMjR",
        "colab_type": "code",
        "colab": {
          "base_uri": "https://localhost:8080/",
          "height": 187
        },
        "outputId": "eefb0959-f2f9-47a1-c932-fb1ced0aa5f9"
      },
      "source": [
        "import numpy as np\n",
        "matrix_1 = np.array([[1, 0], [0, 1]])\n",
        "matrix_2 = np.array([[1, 2], [3, 4]])\n",
        "print(\"Orginal matix: \")\n",
        "print(matrix_1)\n",
        "print(matrix_2)\n",
        "print(\"Outer product of the said two vectors: \")\n",
        "result = np.outer(matrix_1, matrix_2)\n",
        "print(result)\n"
      ],
      "execution_count": 1,
      "outputs": [
        {
          "output_type": "stream",
          "text": [
            "Orginal matix: \n",
            "[[1 0]\n",
            " [0 1]]\n",
            "[[1 2]\n",
            " [3 4]]\n",
            "Outer product of the said two vectors: \n",
            "[[1 2 3 4]\n",
            " [0 0 0 0]\n",
            " [0 0 0 0]\n",
            " [1 2 3 4]]\n"
          ],
          "name": "stdout"
        }
      ]
    }
  ]
}