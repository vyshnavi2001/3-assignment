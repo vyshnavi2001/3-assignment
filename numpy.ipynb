{
  "nbformat": 4,
  "nbformat_minor": 0,
  "metadata": {
    "colab": {
      "name": "Untitled36.ipynb",
      "provenance": [],
      "authorship_tag": "ABX9TyNuZbPCn/JNM8amG10XktTu",
      "include_colab_link": true
    },
    "kernelspec": {
      "name": "python3",
      "display_name": "Python 3"
    }
  },
  "cells": [
    {
      "cell_type": "markdown",
      "metadata": {
        "id": "view-in-github",
        "colab_type": "text"
      },
      "source": [
        "<a href=\"https://colab.research.google.com/github/vyshnavi2001/3-assignment/blob/master/numpy.ipynb\" target=\"_parent\"><img src=\"https://colab.research.google.com/assets/colab-badge.svg\" alt=\"Open In Colab\"/></a>"
      ]
    },
    {
      "cell_type": "code",
      "metadata": {
        "id": "UY9lEj1CBj3P",
        "colab_type": "code",
        "colab": {
          "base_uri": "https://localhost:8080/",
          "height": 85
        },
        "outputId": "b8e9e645-7e4f-40eb-ddf1-ff4c0546edcb"
      },
      "source": [
        "import numpy as np\n",
        "matrix = np.array([[1, 2], [3, 4]])\n",
        "print(\"Original matrix: \")\n",
        "print(matrix)\n",
        "result = np.linalg.cond(matrix)\n",
        "print(\"Condition number of the said matrix: \",result)\n"
      ],
      "execution_count": 2,
      "outputs": [
        {
          "output_type": "stream",
          "text": [
            "Original matrix: \n",
            "[[1 2]\n",
            " [3 4]]\n",
            "Condition number of the said matrix:  14.933034373659268\n"
          ],
          "name": "stdout"
        }
      ]
    }
  ]
}